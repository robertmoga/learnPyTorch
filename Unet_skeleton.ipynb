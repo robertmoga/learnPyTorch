{
 "cells": [
  {
   "cell_type": "markdown",
   "metadata": {},
   "source": [
    "## Skeleton for an UNet"
   ]
  },
  {
   "cell_type": "markdown",
   "metadata": {},
   "source": [
    "<b> This implementation showcases a simple Unet\n",
    "    \n",
    "    The data manipulation methods are not present in the current "
   ]
  },
  {
   "cell_type": "code",
   "execution_count": 1,
   "metadata": {},
   "outputs": [],
   "source": [
    "# from  run_unet import *\n",
    "# from Unet import *"
   ]
  },
  {
   "cell_type": "code",
   "execution_count": 1,
   "metadata": {},
   "outputs": [],
   "source": [
    "train_mode = True\n",
    "width_in = 284\n",
    "height_in = 284\n",
    "width_out = 196\n",
    "height_out = 196\n",
    "PATH = './unet.pt'\n",
    "\n",
    "batch_size = 3\n",
    "epochs = 1\n",
    "epoch_lapse = 50\n",
    "threshold = 0.5\n",
    "learning_rate = 0.01"
   ]
  },
  {
   "cell_type": "code",
   "execution_count": 4,
   "metadata": {},
   "outputs": [
    {
     "name": "stderr",
     "output_type": "stream",
     "text": [
      "100%|████████████████████████████████████████████████████████████████████████████████████| 9/9 [01:24<00:00,  9.33s/it]\n",
      "100%|████████████████████████████████████████████████████████████████████████████████████| 1/1 [00:09<00:00,  9.39s/it]"
     ]
    },
    {
     "name": "stdout",
     "output_type": "stream",
     "text": [
      "(99, 1, 284, 284) (99, 1, 196, 196) (11, 1, 284, 284) (11, 1, 196, 196)\n"
     ]
    },
    {
     "name": "stderr",
     "output_type": "stream",
     "text": [
      "\n"
     ]
    }
   ],
   "source": [
    "x_train, y_train, x_val, y_val = get_dataset(width_in, height_in, width_out, height_out)\n",
    "print(x_train.shape, y_train.shape, x_val.shape, y_val.shape)"
   ]
  },
  {
   "cell_type": "code",
   "execution_count": 20,
   "metadata": {},
   "outputs": [],
   "source": [
    "unet = UNet(in_channel=1,out_channel=2)\n",
    "unet = unet.cuda()"
   ]
  },
  {
   "cell_type": "code",
   "execution_count": null,
   "metadata": {},
   "outputs": [],
   "source": [
    "#     train(unet, batch_size, epochs, epoch_lapse, threshold, learning_rate, criterion, optimizer, x_train, y_train, x_val, y_val, width_out, height_out)\n"
   ]
  },
  {
   "cell_type": "code",
   "execution_count": 21,
   "metadata": {},
   "outputs": [
    {
     "data": {
      "text/plain": [
       "IncompatibleKeys(missing_keys=[], unexpected_keys=[])"
      ]
     },
     "execution_count": 21,
     "metadata": {},
     "output_type": "execute_result"
    }
   ],
   "source": [
    "unet.load_state_dict(torch.load(PATH))"
   ]
  },
  {
   "cell_type": "code",
   "execution_count": 62,
   "metadata": {},
   "outputs": [],
   "source": [
    "img = x_train[0]\n",
    "img = np.transpose(img, (1,2,0))\n",
    "img = np.resize(img, (254,284))\n",
    "# plt.imshow(img)\n",
    "# plt.show()\n",
    "\n",
    "img = y_train[0]\n",
    "img = np.transpose(img, (1,2,0))\n",
    "img = np.resize(img, (254,284))\n",
    "# plt.imshow(img)\n",
    "# plt.show()"
   ]
  },
  {
   "cell_type": "code",
   "execution_count": 5,
   "metadata": {},
   "outputs": [
    {
     "data": {
      "text/plain": [
       "torch.Size([5, 1, 284, 284])"
      ]
     },
     "execution_count": 5,
     "metadata": {},
     "output_type": "execute_result"
    }
   ],
   "source": [
    "import torch.utils.data.dataloader\n",
    "\n",
    "dataloader = torch.utils.data.DataLoader(x_train, batch_size = 5, shuffle = False, num_workers = 2)\n",
    "\n",
    "img = iter(dataloader).next()\n",
    "img.shape\n",
    "# img = img.resize(img.shape[-1], img.shape[-1])\n",
    "\n",
    "# plt.imshow(img)\n",
    "# plt.show()"
   ]
  },
  {
   "cell_type": "markdown",
   "metadata": {},
   "source": [
    "## Unet implementation"
   ]
  },
  {
   "cell_type": "code",
   "execution_count": 36,
   "metadata": {},
   "outputs": [],
   "source": [
    "import torch.nn as nn\n",
    "class MyUnet(nn.Module):\n",
    "    \n",
    "    def down_block(self, in_channels, out_channels, kernel_size = 3):\n",
    "        print(\"Down Block: {} : {}\".format(in_channels, out_channels))\n",
    "        block = torch.nn.Sequential(\n",
    "                    torch.nn.Conv2d(in_channels =in_channels, out_channels = out_channels, kernel_size = kernel_size),\n",
    "                    torch.nn.ReLU(),\n",
    "                    torch.nn.BatchNorm2d(out_channels),\n",
    "                    \n",
    "                    torch.nn.Conv2d(in_channels = out_channels, out_channels = out_channels, kernel_size = kernel_size),\n",
    "                    torch.nn.ReLU(),\n",
    "                    torch.nn.BatchNorm2d(out_channels)\n",
    "        )\n",
    "        \n",
    "        return block\n",
    "    \n",
    "    def up_block(self, in_channels, mid_channels, out_channels, kernel_size= 3):\n",
    "        print(\"Up Block: {} : {} : {}\".format(in_channels, mid_channels, out_channels))\n",
    "\n",
    "        block = torch.nn.Sequential(\n",
    "                torch.nn.Conv2d(in_channels = in_channels, out_channels = mid_channels, kernel_size = kernel_size),\n",
    "                torch.nn.ReLU(),\n",
    "                torch.nn.BatchNorm2d(mid_channels),\n",
    "            \n",
    "                torch.nn.Conv2d(in_channels = mid_channels, out_channels = mid_channels, kernel_size = kernel_size),\n",
    "                torch.nn.ReLU(),\n",
    "                torch.nn.BatchNorm2d(mid_channels),\n",
    "                torch.nn.ConvTranspose2d(in_channels = mid_channels, out_channels = out_channels, \n",
    "                                        kernel_size = kernel_size , stride = 2, padding = 1, output_padding = 1 )\n",
    "        )\n",
    "        \n",
    "        return block\n",
    "    \n",
    "    \n",
    "    def final_block(self, in_channels, mid_channels, out_channels, kernel_size=3):\n",
    "        print(\"Final Block: {} : {} : {}\".format(in_channels, mid_channels, out_channels))\n",
    "\n",
    "        block = torch.nn.Sequential(\n",
    "                    torch.nn.Conv2d(kernel_size=kernel_size, in_channels=in_channels, out_channels=mid_channels),\n",
    "                    torch.nn.ReLU(),\n",
    "                    torch.nn.BatchNorm2d(mid_channels),\n",
    "                    torch.nn.Conv2d(kernel_size=kernel_size, in_channels=mid_channels, out_channels=mid_channels),\n",
    "                    torch.nn.ReLU(),\n",
    "                    torch.nn.BatchNorm2d(mid_channels),\n",
    "                    torch.nn.Conv2d(kernel_size=kernel_size, in_channels=mid_channels, out_channels=out_channels, padding=1),\n",
    "                    torch.nn.ReLU(),\n",
    "                    torch.nn.BatchNorm2d(out_channels),\n",
    "                )\n",
    "        return  block\n",
    "    \n",
    "    def __init__(self):\n",
    "        super(MyUnet, self).__init__()\n",
    "        \n",
    "        # Network structure\n",
    "        in_channels = 1\n",
    "        out_channels = 2\n",
    "        \n",
    "        #Encode\n",
    "        self.conv_encode_1 = self.down_block(1, 64)\n",
    "        self.conv_maxpool_1 = torch.nn.MaxPool2d(kernel_size = 2)\n",
    "        self.conv_encode_2 = self.down_block(64, 128)\n",
    "        self.conv_maxpool_2 = torch.nn.MaxPool2d(kernel_size = 2)\n",
    "        self.conv_encode_3 = self.down_block(128, 256)\n",
    "        self.conv_maxpool_3 = torch.nn.MaxPool2d(kernel_size = 2)\n",
    "\n",
    "        #Bottleneck\n",
    "        \n",
    "        self.bottleneck = torch.nn.Sequential(\n",
    "                            torch.nn.Conv2d(in_channels = 256, out_channels = 512, kernel_size = 3),\n",
    "                            torch.nn.ReLU(),\n",
    "                            torch.nn.BatchNorm2d(512),\n",
    "                            torch.nn.Conv2d(in_channels = 512, out_channels = 512, kernel_size = 3),\n",
    "                            torch.nn.ReLU(),\n",
    "                            torch.nn.BatchNorm2d(512),\n",
    "                            torch.nn.ConvTranspose2d(in_channels = 512, out_channels = 256, \n",
    "                                                         kernel_size = 3, stride = 2, padding = 1 , output_padding = 1)\n",
    "        ) \n",
    "        \n",
    "        #Decode\n",
    "        self.conv_decode3 = self.up_block(512, 256, 128)\n",
    "        self.conv_decode2 = self.up_block(256, 128, 64)\n",
    "        self.final_layer = self.final_block(128, 64, out_channels)\n",
    "        \n",
    "    def crop_and_concat(self, upsampled, bypass, crop=False):\n",
    "        if crop:\n",
    "            c = (bypass.size()[2] - upsampled.size()[2]) // 2\n",
    "            bypass = F.pad(bypass, (-c, -c, -c, -c))\n",
    "        print(\"Concat dimensions {} : {} \".format(upsampled.shape , bypass.shape) )\n",
    "        return torch.cat((upsampled, bypass), 1)\n",
    "    \n",
    "    def forward(self, x):\n",
    "        #encode\n",
    "        \n",
    "        encode_block_1 = self.conv_encode_1(x)\n",
    "        encode_pool_1 = self.conv_maxpool_1(encode_block_1)\n",
    "        \n",
    "        encode_block_2 = self.conv_encode_2(encode_pool_1)\n",
    "        encode_pool_2 = self.conv_maxpool_2(encode_block_2)\n",
    "        \n",
    "        encode_block_3 = self.conv_encode_3(encode_pool_2)\n",
    "        encode_pool_3 = self.conv_encode_3(encode_block_3)\n",
    "        \n",
    "        #bottleneck\n",
    "        \n",
    "        bottleneck1 = self.bottleneck(encode_pool_3)\n",
    "        \n",
    "        #decode\n",
    "        \n",
    "        decode_block3 = self.crop_and_concat(bottleneck1, encode_block3, crop=True)\n",
    "        cat_layer2 = self.conv_decode3(decode_block3)\n",
    "        decode_block2 = self.crop_and_concat(cat_layer2, encode_block2, crop=True)\n",
    "        cat_layer1 = self.conv_decode2(decode_block2)\n",
    "        decode_block1 = self.crop_and_concat(cat_layer1, encode_block1, crop=True)\n",
    "        final_layer = self.final_layer(decode_block1)\n",
    "        return  final_layer"
   ]
  },
  {
   "cell_type": "code",
   "execution_count": 71,
   "metadata": {},
   "outputs": [],
   "source": [
    "import torch.optim as optim\n",
    "import torch.nn.functional as functional\n",
    "\n",
    "criterion = torch.nn.CrossEntropyLoss()\n",
    "optimizer = torch.optim.SGD(unet.parameters(), lr = 0.01, momentum=0.99)"
   ]
  },
  {
   "cell_type": "code",
   "execution_count": 74,
   "metadata": {},
   "outputs": [
    {
     "data": {
      "text/plain": [
       "True"
      ]
     },
     "execution_count": 74,
     "metadata": {},
     "output_type": "execute_result"
    }
   ],
   "source": [
    "use_cuda = False\n",
    "if torch.cuda.is_available():\n",
    "    use_cuda = True\n",
    "    \n",
    "use_cuda"
   ]
  },
  {
   "cell_type": "code",
   "execution_count": 42,
   "metadata": {},
   "outputs": [
    {
     "name": "stdout",
     "output_type": "stream",
     "text": [
      "Down Block: 1 : 64\n",
      "Down Block: 64 : 128\n",
      "Down Block: 128 : 256\n",
      "Up Block: 512 : 256 : 128\n",
      "Up Block: 256 : 128 : 64\n",
      "Final Block: 128 : 64 : 2\n"
     ]
    }
   ],
   "source": [
    "myUnet = MyUnet()\n",
    "# myUnet.bottleneck"
   ]
  },
  {
   "cell_type": "code",
   "execution_count": 41,
   "metadata": {},
   "outputs": [
    {
     "data": {
      "text/plain": [
       "tensor([[1., 1., 1., 1., 1., 0., 0., 0., 0., 0.],\n",
       "        [1., 1., 1., 1., 1., 0., 0., 0., 0., 0.],\n",
       "        [1., 1., 1., 1., 1., 0., 0., 0., 0., 0.],\n",
       "        [1., 1., 1., 1., 1., 0., 0., 0., 0., 0.],\n",
       "        [1., 1., 1., 1., 1., 0., 0., 0., 0., 0.]])"
      ]
     },
     "execution_count": 41,
     "metadata": {},
     "output_type": "execute_result"
    }
   ],
   "source": [
    "a = torch.ones(5,5)\n",
    "b = torch.zeros(5,5)\n",
    "\n",
    "c = torch.cat((a,b), 1)\n",
    "c"
   ]
  }
 ],
 "metadata": {
  "kernelspec": {
   "display_name": "Python 3",
   "language": "python",
   "name": "python3"
  },
  "language_info": {
   "codemirror_mode": {
    "name": "ipython",
    "version": 3
   },
   "file_extension": ".py",
   "mimetype": "text/x-python",
   "name": "python",
   "nbconvert_exporter": "python",
   "pygments_lexer": "ipython3",
   "version": "3.6.8"
  }
 },
 "nbformat": 4,
 "nbformat_minor": 4
}
